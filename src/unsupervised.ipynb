{
 "cells": [
  {
   "cell_type": "markdown",
   "id": "fd63537a-4a4e-4af3-a477-c93f19dc18b2",
   "metadata": {},
   "source": [
    "# Unsupervised Tasks\n",
    "\n",
    "In this notebook, recommendation engines are explored"
   ]
  },
  {
   "cell_type": "code",
   "execution_count": null,
   "id": "1b5a12af-265e-4324-aa11-9858fc75264b",
   "metadata": {},
   "outputs": [],
   "source": [
    "%load_ext autoreload\n",
    "%autoreload 2\n",
    "%matplotlib inline"
   ]
  },
  {
   "cell_type": "code",
   "execution_count": null,
   "id": "94ce07c3-2a31-48bd-8485-4b000725cc84",
   "metadata": {},
   "outputs": [],
   "source": [
    "import pandas as pd\n",
    "import numpy as np\n",
    "from data_prep import DataPrep\n",
    "\n",
    "from unsupervised import *\n",
    "from data_loading import *\n",
    "from sklearn.metrics import silhouette_score"
   ]
  },
  {
   "cell_type": "markdown",
   "id": "f2332159-3900-4754-a8f4-a93427dc48fc",
   "metadata": {},
   "source": [
    "### all features"
   ]
  },
  {
   "cell_type": "code",
   "execution_count": null,
   "id": "eaa4f847-4a17-4ab2-9f94-64bec56fefc2",
   "metadata": {},
   "outputs": [],
   "source": [
    "df=pd.read_csv('spotify.csv')"
   ]
  },
  {
   "cell_type": "code",
   "execution_count": null,
   "id": "b2fdc3ea-5467-40da-806a-ccccd8ec8747",
   "metadata": {},
   "outputs": [],
   "source": [
    "dp = DataPrep(df)\n",
    "\n",
    "columns_to_drop=['Artist URI(s)', 'Album URI', 'Album Artist URI(s)',\n",
    "                 'Album Image URL', 'Disc Number', 'Track Preview URL', 'ISRC',\n",
    "                 'Added By', 'Added At', 'Copyrights', 'Album Genres']\n",
    "\n",
    "cat_columns = ['Artist Name(s)','Label','Decade','Key']\n",
    "\n",
    "dp.prepare_data(drop_columns=columns_to_drop,\n",
    "                cat_columns=cat_columns,\n",
    "                add_decade=True,\n",
    "                text_columns=['Track Name','Album Name'],\n",
    "                n_components_text=2)"
   ]
  },
  {
   "cell_type": "code",
   "execution_count": null,
   "id": "d1a40d10-08f1-4729-8622-788d7e1b208b",
   "metadata": {},
   "outputs": [],
   "source": [
    "data = dp.df\n",
    "\n",
    "data = get_unsupervised_data(data,normalise=True)"
   ]
  },
  {
   "cell_type": "code",
   "execution_count": null,
   "id": "96cce3ba-c4cb-4a02-ac9c-530b87de2330",
   "metadata": {},
   "outputs": [],
   "source": [
    "vec_proj,vec_viz = train_projectors(data,20)"
   ]
  },
  {
   "cell_type": "code",
   "execution_count": null,
   "id": "42c153b1-406e-4a93-8c9b-0522c076dcba",
   "metadata": {},
   "outputs": [],
   "source": [
    "get_most_similar(idx=1003,vector=vec_proj,data=dp.orig_df)"
   ]
  },
  {
   "cell_type": "code",
   "execution_count": null,
   "id": "be0c7548-0d53-4382-b480-3ec2e9008717",
   "metadata": {},
   "outputs": [],
   "source": [
    "get_eps(vec_proj)"
   ]
  },
  {
   "cell_type": "code",
   "execution_count": null,
   "id": "8252bd8a-9f47-46cf-845f-2b15b1da18cb",
   "metadata": {},
   "outputs": [],
   "source": [
    "labels = train_dbscan_and_get_labels(vec_proj,eps=0.5)\n",
    "plot_clusters(vec_viz,labels)"
   ]
  },
  {
   "cell_type": "code",
   "execution_count": null,
   "id": "a53e508b-0b7d-4805-ab80-d115f5c3a037",
   "metadata": {},
   "outputs": [],
   "source": [
    "uris = dp.df['Track URI']\n",
    "\n",
    "orig = df.copy()\n",
    "orig = orig.loc[orig['Track URI'].isin(uris)].drop_duplicates()\n",
    "orig['labels']=labels\n",
    "\n",
    "orig[orig.labels==labels[1003]].sample(n=3)[['Artist Name(s)','Track Name','Artist Genres']]"
   ]
  },
  {
   "cell_type": "code",
   "execution_count": null,
   "id": "21572d99-803b-47bc-b543-7ae4f9b46c38",
   "metadata": {},
   "outputs": [],
   "source": [
    "print('Clustering score',silhouette_score(vec_proj,labels))"
   ]
  },
  {
   "cell_type": "markdown",
   "id": "32d679d2-fd48-48af-86ac-6c9c46413a85",
   "metadata": {},
   "source": [
    "### Continuous only"
   ]
  },
  {
   "cell_type": "code",
   "execution_count": null,
   "id": "613aa2fc-6709-4857-8f4b-06fe6ec9854d",
   "metadata": {},
   "outputs": [],
   "source": [
    "data = dp.df\n",
    "\n",
    "data = get_unsupervised_data(data,normalise=True)\n",
    "\n",
    "data = data[['Explicit', 'Popularity', 'Danceability',\n",
    "       'Energy', 'Key', 'Loudness', 'Mode', 'Speechiness', 'Acousticness',\n",
    "       'Instrumentalness', 'Liveness', 'Valence', 'Tempo', 'Time Signature']]"
   ]
  },
  {
   "cell_type": "code",
   "execution_count": null,
   "id": "732b849a-073a-4d68-b7a3-71d4aa202736",
   "metadata": {},
   "outputs": [],
   "source": [
    "vec_proj,vec_viz = train_projectors(data,20)"
   ]
  },
  {
   "cell_type": "code",
   "execution_count": null,
   "id": "9468904c-3730-4cba-9da8-85c0d28ad3b2",
   "metadata": {},
   "outputs": [],
   "source": [
    "get_most_similar(idx=1003,vector=vec_proj,data=dp.orig_df)"
   ]
  },
  {
   "cell_type": "code",
   "execution_count": null,
   "id": "9236f27c-c2ff-479c-8691-92d61349e9b0",
   "metadata": {},
   "outputs": [],
   "source": [
    "get_eps(vec_proj)"
   ]
  },
  {
   "cell_type": "code",
   "execution_count": null,
   "id": "1bd4aa6c-06e0-4755-bcf0-55d0011a75b0",
   "metadata": {},
   "outputs": [],
   "source": [
    "labels = train_dbscan_and_get_labels(vec_proj,eps=0.4)\n",
    "plot_clusters(vec_viz,labels)"
   ]
  },
  {
   "cell_type": "code",
   "execution_count": null,
   "id": "946c3c32-e151-471c-abb6-9c94d94afa3a",
   "metadata": {},
   "outputs": [],
   "source": [
    "uris = dp.df['Track URI']\n",
    "\n",
    "orig = df.copy()\n",
    "orig = orig.loc[orig['Track URI'].isin(uris)].drop_duplicates()\n",
    "orig['labels']=labels\n",
    "\n",
    "orig[orig.labels==labels[1003]].sample(n=3)[['Artist Name(s)','Track Name','Artist Genres']]"
   ]
  },
  {
   "cell_type": "code",
   "execution_count": null,
   "id": "936ada38-d81e-4a98-97b8-ab7f5a65367e",
   "metadata": {},
   "outputs": [],
   "source": [
    "print('Clustering score',silhouette_score(vec_proj,labels))"
   ]
  },
  {
   "cell_type": "markdown",
   "id": "64e5559e-5a92-4557-a661-d76dc21a5d17",
   "metadata": {},
   "source": [
    "### free-text only"
   ]
  },
  {
   "cell_type": "code",
   "execution_count": null,
   "id": "c56913f3-0875-426d-b978-0118221e8fb9",
   "metadata": {},
   "outputs": [],
   "source": [
    "dp = DataPrep(df)\n",
    "\n",
    "columns_to_drop=['Artist URI(s)', 'Artist Name(s)',\n",
    "       'Album URI', 'Album Artist URI(s)',\n",
    "       'Album Artist Name(s)', 'Album Release Date', 'Album Image URL',\n",
    "       'Disc Number', 'Track Number', 'Track Duration (ms)',\n",
    "       'Track Preview URL', 'Explicit', 'Popularity', 'ISRC', 'Added By',\n",
    "       'Added At', 'Artist Genres', 'Danceability', 'Energy', 'Key',\n",
    "       'Loudness', 'Mode', 'Speechiness', 'Acousticness', 'Instrumentalness',\n",
    "       'Liveness', 'Valence', 'Tempo', 'Time Signature', 'Album Genres',\n",
    "       'Label', 'Copyrights']\n",
    "\n",
    "dp.prepare_data(drop_columns=columns_to_drop,\n",
    "                add_decade=True,\n",
    "                cat_columns=None,\n",
    "                text_columns=['Track Name','Album Name'],\n",
    "                n_components_text=64)\n",
    "\n",
    "data = dp.df"
   ]
  },
  {
   "cell_type": "code",
   "execution_count": null,
   "id": "65dce3eb-3b18-42f8-bdc2-e65bb17fbae3",
   "metadata": {},
   "outputs": [],
   "source": [
    "data = get_unsupervised_data(data,normalise=True)"
   ]
  },
  {
   "cell_type": "code",
   "execution_count": null,
   "id": "0a83e4d4-8ac7-4688-9013-59f2bd62307c",
   "metadata": {},
   "outputs": [],
   "source": [
    "vec_proj,vec_viz = train_projectors(data,20)"
   ]
  },
  {
   "cell_type": "code",
   "execution_count": null,
   "id": "e9c77423-4e24-4373-ac44-9b0340c667dc",
   "metadata": {},
   "outputs": [],
   "source": [
    "get_most_similar(idx=1003,vector=vec_viz,data=dp.orig_df,n=20)"
   ]
  },
  {
   "cell_type": "code",
   "execution_count": null,
   "id": "06c56c5f-09ec-4d7c-a0b9-dd1abdac4429",
   "metadata": {},
   "outputs": [],
   "source": [
    "get_eps(vec_proj)"
   ]
  },
  {
   "cell_type": "code",
   "execution_count": null,
   "id": "e0d35d69-1859-40e4-b59f-801749f7fdc5",
   "metadata": {},
   "outputs": [],
   "source": [
    "labels = train_dbscan_and_get_labels(vec_proj,eps=0.4)\n",
    "plot_clusters(vec_viz,labels)"
   ]
  },
  {
   "cell_type": "code",
   "execution_count": null,
   "id": "e3113757-0d4f-46a1-8f6e-41010fad5a15",
   "metadata": {},
   "outputs": [],
   "source": [
    "uris = dp.df['Track URI']\n",
    "\n",
    "orig = df.copy()\n",
    "orig = orig.loc[orig['Track URI'].isin(uris)].drop_duplicates()\n",
    "orig['labels']=labels\n",
    "\n",
    "orig[orig.labels==labels[1003]].sample(n=3)[['Artist Name(s)','Track Name','Artist Genres']]"
   ]
  },
  {
   "cell_type": "code",
   "execution_count": null,
   "id": "d832e2ea-bb04-48b1-95fd-79e8d221fc47",
   "metadata": {},
   "outputs": [],
   "source": [
    "print('Clustering score',silhouette_score(vec_proj,labels))"
   ]
  }
 ],
 "metadata": {
  "kernelspec": {
   "display_name": "Python 3 (ipykernel)",
   "language": "python",
   "name": "python3"
  },
  "language_info": {
   "codemirror_mode": {
    "name": "ipython",
    "version": 3
   },
   "file_extension": ".py",
   "mimetype": "text/x-python",
   "name": "python",
   "nbconvert_exporter": "python",
   "pygments_lexer": "ipython3",
   "version": "3.10.11"
  }
 },
 "nbformat": 4,
 "nbformat_minor": 5
}
